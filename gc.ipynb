{
  "cells": [
    {
      "cell_type": "markdown",
      "metadata": {
        "id": "h9G4dxOQxCnM"
      },
      "source": [
        "# Step-by-step YAO's Garbled Circuit"
      ]
    },
    {
      "cell_type": "code",
      "execution_count": null,
      "metadata": {
        "id": "arOzfOoQxCnP"
      },
      "outputs": [],
      "source": [
        "circuit = {\n",
        "  \"name\": \"smart\",\n",
        "  \"circuits\": [\n",
        "    {\n",
        "      \"id\": \"Smart\",\n",
        "      \"alice\": [1, 2],\n",
        "      \"bob\": [3, 4],\n",
        "      \"out\": [7],\n",
        "      \"gates\": [\n",
        "        {\"id\": 5, \"type\": \"AND\", \"in\": [1, 3]},\n",
        "        {\"id\": 6, \"type\": \"XOR\", \"in\": [2, 4]},\n",
        "        {\"id\": 7, \"type\": \"OR\", \"in\": [5, 6]}\n",
        "      ]\n",
        "    }\n",
        "  ]\n",
        "}"
      ]
    },
    {
      "cell_type": "markdown",
      "metadata": {
        "id": "dJwc9JrnxCnQ"
      },
      "source": [
        "## Garbling Scheme"
      ]
    },
    {
      "cell_type": "markdown",
      "metadata": {
        "id": "HW5JWFbvxCnQ"
      },
      "source": [
        "### Truth table"
      ]
    },
    {
      "cell_type": "code",
      "execution_count": null,
      "metadata": {
        "id": "xVJ7ojM7xCnR",
        "outputId": "d06a0fae-feaf-44e8-dd87-de5d299f1e4c"
      },
      "outputs": [
        {
          "name": "stdout",
          "output_type": "stream",
          "text": [
            "Gate 5 (AND):\n",
            "  Inputs: (0, 0) -> Output: 0\n",
            "  Inputs: (0, 1) -> Output: 0\n",
            "  Inputs: (1, 0) -> Output: 0\n",
            "  Inputs: (1, 1) -> Output: 1\n",
            "Gate 6 (XOR):\n",
            "  Inputs: (0, 0) -> Output: 0\n",
            "  Inputs: (0, 1) -> Output: 1\n",
            "  Inputs: (1, 0) -> Output: 1\n",
            "  Inputs: (1, 1) -> Output: 0\n",
            "Gate 7 (OR):\n",
            "  Inputs: (0, 0) -> Output: 0\n",
            "  Inputs: (0, 1) -> Output: 1\n",
            "  Inputs: (1, 0) -> Output: 1\n",
            "  Inputs: (1, 1) -> Output: 1\n"
          ]
        }
      ],
      "source": [
        "def generate_truth_table():\n",
        "    truth_table = {\n",
        "        \"Gate 5 (AND)\": [],\n",
        "        \"Gate 6 (XOR)\": [],\n",
        "        \"Gate 7 (OR)\": []\n",
        "    }\n",
        "\n",
        "    # Compute truth table for Gate 5 (AND)\n",
        "    for a1 in [0, 1]:\n",
        "        for b1 in [0, 1]:\n",
        "            gate_5 = a1 and b1\n",
        "            truth_table[\"Gate 5 (AND)\"].append(((a1, b1), gate_5))\n",
        "\n",
        "    # Compute truth table for Gate 6 (XOR)\n",
        "    for a2 in [0, 1]:\n",
        "        for b2 in [0, 1]:\n",
        "            gate_6 = a2 ^ b2\n",
        "            truth_table[\"Gate 6 (XOR)\"].append(((a2, b2), gate_6))\n",
        "\n",
        "    # Compute truth table for Gate 7 (OR) based on previous gate outputs\n",
        "    for gate_5 in [0, 1]:\n",
        "        for gate_6 in [0, 1]:\n",
        "            gate_7 = gate_5 or gate_6\n",
        "            truth_table[\"Gate 7 (OR)\"].append(((gate_5, gate_6), gate_7))\n",
        "\n",
        "    return truth_table\n",
        "\n",
        "truth_table = generate_truth_table()\n",
        "\n",
        "# Print the truth table for each gate\n",
        "for gate, table in truth_table.items():\n",
        "    print(f\"{gate}:\")\n",
        "    for inputs, output in table:\n",
        "        print(f\"  Inputs: {inputs} -> Output: {output}\")\n"
      ]
    },
    {
      "cell_type": "markdown",
      "metadata": {
        "id": "X7xH87DxxCnS"
      },
      "source": [
        "### Set labels for each wire"
      ]
    },
    {
      "cell_type": "code",
      "execution_count": null,
      "metadata": {
        "id": "7rddK885xCnS",
        "outputId": "d823a414-1a29-4301-e13d-f6665b59c046"
      },
      "outputs": [
        {
          "name": "stdout",
          "output_type": "stream",
          "text": [
            "Gate 5 (AND):\n",
            "  Inputs: ('Htrc', '1aMd') -> Output: rLXd\n",
            "  Inputs: ('Htrc', 'IMwq') -> Output: rLXd\n",
            "  Inputs: ('hEFW', '1aMd') -> Output: rLXd\n",
            "  Inputs: ('hEFW', 'IMwq') -> Output: i1uY\n",
            "Gate 6 (XOR):\n",
            "  Inputs: ('fDkE', 'Uhja') -> Output: lyvU\n",
            "  Inputs: ('fDkE', 'Gek4') -> Output: MMDk\n",
            "  Inputs: ('QUd6', 'Uhja') -> Output: MMDk\n",
            "  Inputs: ('QUd6', 'Gek4') -> Output: lyvU\n",
            "Gate 7 (OR):\n",
            "  Inputs: ('rLXd', 'lyvU') -> Output: CNGz\n",
            "  Inputs: ('rLXd', 'MMDk') -> Output: FJwk\n",
            "  Inputs: ('i1uY', 'lyvU') -> Output: FJwk\n",
            "  Inputs: ('i1uY', 'MMDk') -> Output: FJwk\n",
            "\n",
            "Labels:\n",
            "A1: 0 -> Htrc, 1 -> hEFW\n",
            "A2: 0 -> fDkE, 1 -> QUd6\n",
            "B1: 0 -> 1aMd, 1 -> IMwq\n",
            "B2: 0 -> Uhja, 1 -> Gek4\n",
            "G5: 0 -> rLXd, 1 -> i1uY\n",
            "G6: 0 -> lyvU, 1 -> MMDk\n",
            "G7: 0 -> CNGz, 1 -> FJwk\n"
          ]
        }
      ],
      "source": [
        "import random\n",
        "import string\n",
        "\n",
        "def generate_random_label(k=4):\n",
        "    \"\"\"Generate a random label of k bits.\"\"\"\n",
        "    return ''.join(random.choices(string.ascii_letters + string.digits, k=k))\n",
        "\n",
        "def generate_truth_table_with_labels(k=4):\n",
        "    # Generate random labels for each wire in the circuit\n",
        "    labels = {\n",
        "        \"A1\": (generate_random_label(k), generate_random_label(k)),\n",
        "        \"A2\": (generate_random_label(k), generate_random_label(k)),\n",
        "        \"B1\": (generate_random_label(k), generate_random_label(k)),\n",
        "        \"B2\": (generate_random_label(k), generate_random_label(k)),\n",
        "        \"G5\": (generate_random_label(k), generate_random_label(k)),\n",
        "        \"G6\": (generate_random_label(k), generate_random_label(k)),\n",
        "        \"G7\": (generate_random_label(k), generate_random_label(k)),\n",
        "    }\n",
        "\n",
        "    truth_table = {\n",
        "        \"Gate 5 (AND)\": [],\n",
        "        \"Gate 6 (XOR)\": [],\n",
        "        \"Gate 7 (OR)\": []\n",
        "    }\n",
        "\n",
        "    for a1 in [0, 1]:\n",
        "        for b1 in [0, 1]:\n",
        "            gate_5 = a1 and b1\n",
        "            truth_table[\"Gate 5 (AND)\"].append((\n",
        "                (labels[\"A1\"][a1], labels[\"B1\"][b1]),\n",
        "                labels[\"G5\"][gate_5]\n",
        "            ))\n",
        "\n",
        "    for a2 in [0, 1]:\n",
        "        for b2 in [0, 1]:\n",
        "            gate_6 = a2 ^ b2\n",
        "            truth_table[\"Gate 6 (XOR)\"].append((\n",
        "                (labels[\"A2\"][a2], labels[\"B2\"][b2]),\n",
        "                labels[\"G6\"][gate_6]\n",
        "            ))\n",
        "\n",
        "    for gate_5 in [0, 1]:\n",
        "        for gate_6 in [0, 1]:\n",
        "            gate_7 = gate_5 or gate_6\n",
        "            truth_table[\"Gate 7 (OR)\"].append((\n",
        "                (labels[\"G5\"][gate_5], labels[\"G6\"][gate_6]),\n",
        "                labels[\"G7\"][gate_7]\n",
        "            ))\n",
        "\n",
        "    return truth_table, labels\n",
        "\n",
        "truth_table, labels = generate_truth_table_with_labels()\n",
        "\n",
        "for gate, table in truth_table.items():\n",
        "    print(f\"{gate}:\")\n",
        "    for inputs, output in table:\n",
        "        print(f\"  Inputs: {inputs} -> Output: {output}\")\n",
        "\n",
        "# Print the labels\n",
        "print(\"\\nLabels:\")\n",
        "for wire, (label0, label1) in labels.items():\n",
        "    print(f\"{wire}: 0 -> {label0}, 1 -> {label1}\")\n"
      ]
    },
    {
      "cell_type": "markdown",
      "metadata": {
        "id": "QPdPTpu6xCnT"
      },
      "source": [
        "### Encrypted table"
      ]
    },
    {
      "cell_type": "code",
      "execution_count": null,
      "metadata": {
        "id": "Lx9h2QLuxCnT",
        "outputId": "f457418f-b274-4cbc-c1af-0acf56f83dc4"
      },
      "outputs": [
        {
          "name": "stdout",
          "output_type": "stream",
          "text": [
            "Gate 5 (AND):\n",
            "  Inputs: 8C3L, wc0X -> Encrypted Output: f7rM8C3Lwc0X\n",
            "  Inputs: 8C3L, RTPy -> Encrypted Output: f7rM8C3LRTPy\n",
            "  Inputs: 3Zfe, wc0X -> Encrypted Output: f7rM3Zfewc0X\n",
            "  Inputs: 3Zfe, RTPy -> Encrypted Output: njR83ZfeRTPy\n",
            "Gate 6 (XOR):\n",
            "  Inputs: pdfz, bRDP -> Encrypted Output: v9vPpdfzbRDP\n",
            "  Inputs: pdfz, LVo5 -> Encrypted Output: YqjUpdfzLVo5\n",
            "  Inputs: DDXh, bRDP -> Encrypted Output: YqjUDDXhbRDP\n",
            "  Inputs: DDXh, LVo5 -> Encrypted Output: v9vPDDXhLVo5\n",
            "Gate 7 (OR):\n",
            "  Inputs: f7rM, v9vP -> Encrypted Output: g4DVf7rMv9vP\n",
            "  Inputs: f7rM, YqjU -> Encrypted Output: piwDf7rMYqjU\n",
            "  Inputs: njR8, v9vP -> Encrypted Output: piwDnjR8v9vP\n",
            "  Inputs: njR8, YqjU -> Encrypted Output: piwDnjR8YqjU\n",
            "\n",
            "Labels:\n",
            "A1: 0 -> 8C3L, 1 -> 3Zfe\n",
            "A2: 0 -> pdfz, 1 -> DDXh\n",
            "B1: 0 -> wc0X, 1 -> RTPy\n",
            "B2: 0 -> bRDP, 1 -> LVo5\n",
            "G5: 0 -> f7rM, 1 -> njR8\n",
            "G6: 0 -> v9vP, 1 -> YqjU\n",
            "G7: 0 -> g4DV, 1 -> piwD\n"
          ]
        }
      ],
      "source": [
        "import random\n",
        "import string\n",
        "\n",
        "def generate_random_label(k=4):\n",
        "    \"\"\"Generate a random label of k bits.\"\"\"\n",
        "    return ''.join(random.choices(string.ascii_letters + string.digits, k=k))\n",
        "\n",
        "def encrypt(value, key):\n",
        "    \"\"\"Encrypt the value using the key.\"\"\"\n",
        "    # For simplicity, let's just concatenate the value and key\n",
        "    return value + key\n",
        "\n",
        "def generate_truth_table_with_labels_encrypted(k=4):\n",
        "    # Generate random labels for each wire in the circuit\n",
        "    labels = {\n",
        "        \"A1\": (generate_random_label(k), generate_random_label(k)),\n",
        "        \"A2\": (generate_random_label(k), generate_random_label(k)),\n",
        "        \"B1\": (generate_random_label(k), generate_random_label(k)),\n",
        "        \"B2\": (generate_random_label(k), generate_random_label(k)),\n",
        "        \"G5\": (generate_random_label(k), generate_random_label(k)),\n",
        "        \"G6\": (generate_random_label(k), generate_random_label(k)),\n",
        "        \"G7\": (generate_random_label(k), generate_random_label(k)),\n",
        "    }\n",
        "\n",
        "    truth_table = {\n",
        "        \"Gate 5 (AND)\": [],\n",
        "        \"Gate 6 (XOR)\": [],\n",
        "        \"Gate 7 (OR)\": []\n",
        "    }\n",
        "\n",
        "    for a1 in [0, 1]:\n",
        "        for b1 in [0, 1]:\n",
        "            gate_5 = a1 and b1\n",
        "            encrypted_output = encrypt(labels[\"G5\"][gate_5], labels[\"A1\"][a1] + labels[\"B1\"][b1])\n",
        "            truth_table[\"Gate 5 (AND)\"].append((labels[\"A1\"][a1], labels[\"B1\"][b1], encrypted_output))\n",
        "\n",
        "    for a2 in [0, 1]:\n",
        "        for b2 in [0, 1]:\n",
        "            gate_6 = a2 ^ b2\n",
        "            encrypted_output = encrypt(labels[\"G6\"][gate_6], labels[\"A2\"][a2] + labels[\"B2\"][b2])\n",
        "            truth_table[\"Gate 6 (XOR)\"].append((labels[\"A2\"][a2], labels[\"B2\"][b2], encrypted_output))\n",
        "\n",
        "    for gate_5 in [0, 1]:\n",
        "        for gate_6 in [0, 1]:\n",
        "            gate_7 = gate_5 or gate_6\n",
        "            encrypted_output = encrypt(labels[\"G7\"][gate_7], labels[\"G5\"][gate_5] + labels[\"G6\"][gate_6])\n",
        "            truth_table[\"Gate 7 (OR)\"].append((labels[\"G5\"][gate_5], labels[\"G6\"][gate_6], encrypted_output))\n",
        "\n",
        "    return truth_table, labels\n",
        "\n",
        "truth_table, labels = generate_truth_table_with_labels_encrypted()\n",
        "\n",
        "# Print the truth table for each gate\n",
        "for gate, table in truth_table.items():\n",
        "    print(f\"{gate}:\")\n",
        "    for input_A, input_B, output in table:\n",
        "        print(f\"  Inputs: {input_A}, {input_B} -> Encrypted Output: {output}\")\n",
        "\n",
        "# Print the labels\n",
        "print(\"\\nLabels:\")\n",
        "for wire, (label0, label1) in labels.items():\n",
        "    print(f\"{wire}: 0 -> {label0}, 1 -> {label1}\")\n"
      ]
    },
    {
      "cell_type": "markdown",
      "metadata": {
        "id": "gKM7Hvw0xCnU"
      },
      "source": [
        "### Garbled table"
      ]
    },
    {
      "cell_type": "code",
      "execution_count": null,
      "metadata": {
        "id": "2wv52UyPxCnU",
        "outputId": "f53ae11c-9ec4-42db-eb09-3f4f6ddd8912"
      },
      "outputs": [
        {
          "name": "stdout",
          "output_type": "stream",
          "text": [
            "Gate 5 (AND):\n",
            "  Inputs: A=UjfN, B=t56m -> Encrypted Output: zb2dUjfNt56m\n",
            "  Inputs: A=UjfN, B=7wVe -> Encrypted Output: q3O8UjfN7wVe\n",
            "  Inputs: A=5MKU, B=7wVe -> Encrypted Output: zb2d5MKU7wVe\n",
            "  Inputs: A=5MKU, B=t56m -> Encrypted Output: zb2d5MKUt56m\n",
            "Gate 6 (XOR):\n",
            "  Inputs: A=lVUb, B=EiqP -> Encrypted Output: cGRglVUbEiqP\n",
            "  Inputs: A=lVUb, B=2Owm -> Encrypted Output: G27alVUb2Owm\n",
            "  Inputs: A=odlg, B=EiqP -> Encrypted Output: G27aodlgEiqP\n",
            "  Inputs: A=odlg, B=2Owm -> Encrypted Output: cGRgodlg2Owm\n",
            "Gate 7 (OR):\n",
            "  Inputs: A=q3O8, B=G27a -> Encrypted Output: xei0q3O8G27a\n",
            "  Inputs: A=zb2d, B=G27a -> Encrypted Output: bL2Ozb2dG27a\n",
            "  Inputs: A=q3O8, B=cGRg -> Encrypted Output: xei0q3O8cGRg\n",
            "  Inputs: A=zb2d, B=cGRg -> Encrypted Output: xei0zb2dcGRg\n",
            "\n",
            "Labels:\n",
            "A1: 0 -> 5MKU, 1 -> UjfN\n",
            "A2: 0 -> lVUb, 1 -> odlg\n",
            "B1: 0 -> t56m, 1 -> 7wVe\n",
            "B2: 0 -> 2Owm, 1 -> EiqP\n",
            "G5: 0 -> zb2d, 1 -> q3O8\n",
            "G6: 0 -> G27a, 1 -> cGRg\n",
            "G7: 0 -> bL2O, 1 -> xei0\n"
          ]
        }
      ],
      "source": [
        "# Function to generate a random permutation\n",
        "def random_permutation(table):\n",
        "    permuted_table = table[:]  # Make a copy of the table\n",
        "    random.shuffle(permuted_table)  # Shuffle the copy\n",
        "    return permuted_table\n",
        "\n",
        "truth_table, labels = generate_truth_table_with_labels_encrypted()\n",
        "\n",
        "# Permute the truth table rows\n",
        "for gate, table in truth_table.items():\n",
        "    truth_table[gate] = random_permutation(table)\n",
        "\n",
        "for gate, table in truth_table.items():\n",
        "    print(f\"{gate}:\")\n",
        "    for input_A, input_B, output in table:\n",
        "        print(f\"  Inputs: A={input_A}, B={input_B} -> Encrypted Output: {output}\")\n",
        "\n",
        "print(\"\\nLabels:\")\n",
        "for wire, (label0, label1) in labels.items():\n",
        "    print(f\"{wire}: 0 -> {label0}, 1 -> {label1}\")\n"
      ]
    },
    {
      "cell_type": "markdown",
      "metadata": {
        "id": "hlkjCisExCnV"
      },
      "source": [
        "## 1-out-of-2 Oblivious Transfers"
      ]
    },
    {
      "cell_type": "code",
      "execution_count": null,
      "metadata": {
        "id": "-IkRrsaVxCnV",
        "outputId": "a26332cb-4452-4472-f252-df6a452385c3"
      },
      "outputs": [
        {
          "name": "stdout",
          "output_type": "stream",
          "text": [
            "Receiver's choice: 0\n",
            "Decrypted text: Message 0\n"
          ]
        }
      ],
      "source": [
        "from cryptography.hazmat.primitives import serialization\n",
        "from cryptography.hazmat.primitives.asymmetric import rsa\n",
        "from cryptography.hazmat.primitives.asymmetric import padding\n",
        "from cryptography.hazmat.primitives import hashes\n",
        "\n",
        "def generate_rsa_key_pair():\n",
        "    # Generate RSA key pair\n",
        "    private_key = rsa.generate_private_key(\n",
        "        public_exponent=65537,\n",
        "        key_size=2048\n",
        "    )\n",
        "    public_key = private_key.public_key()\n",
        "\n",
        "    # Serialize keys to PEM format\n",
        "    private_pem = private_key.private_bytes(\n",
        "        encoding=serialization.Encoding.PEM,\n",
        "        format=serialization.PrivateFormat.PKCS8,\n",
        "        encryption_algorithm=serialization.NoEncryption()\n",
        "    )\n",
        "    public_pem = public_key.public_bytes(\n",
        "        encoding=serialization.Encoding.PEM,\n",
        "        format=serialization.PublicFormat.SubjectPublicKeyInfo\n",
        "    )\n",
        "\n",
        "    return private_pem, public_pem\n",
        "\n",
        "def rsa_encrypt(public_key_pem, plaintext):\n",
        "    # Load public key\n",
        "    public_key = serialization.load_pem_public_key(public_key_pem)\n",
        "\n",
        "    # Generate padding and encrypt\n",
        "    ciphertext = public_key.encrypt(\n",
        "        plaintext,\n",
        "        padding.OAEP(\n",
        "            mgf=padding.MGF1(algorithm=hashes.SHA256()),\n",
        "            algorithm=hashes.SHA256(),\n",
        "            label=None\n",
        "        )\n",
        "    )\n",
        "\n",
        "    return ciphertext\n",
        "\n",
        "def rsa_decrypt(private_key_pem, ciphertext):\n",
        "    # Load private key\n",
        "    private_key = serialization.load_pem_private_key(\n",
        "        private_key_pem,\n",
        "        password=None\n",
        "    )\n",
        "\n",
        "    # Decrypt and remove padding\n",
        "    plaintext = private_key.decrypt(\n",
        "        ciphertext,\n",
        "        padding.OAEP(\n",
        "            mgf=padding.MGF1(algorithm=hashes.SHA256()),\n",
        "            algorithm=hashes.SHA256(),\n",
        "            label=None\n",
        "        )\n",
        "    )\n",
        "\n",
        "    return plaintext\n",
        "\n",
        "\n",
        "def oblivious_transfer(message0, message1, chosen_bit):\n",
        "\n",
        "    def pk_sampling(chosen_bit):\n",
        "        private_key_pem0, public_key_pem0 = generate_rsa_key_pair()\n",
        "        private_key_pem1, public_key_pem1 = generate_rsa_key_pair()\n",
        "        if chosen_bit == 0:\n",
        "            return public_key_pem0, public_key_pem1, private_key_pem0\n",
        "        return public_key_pem0, public_key_pem1, private_key_pem1\n",
        "\n",
        "    def encrypt_messages(message0, message1, key0, key1):\n",
        "        return rsa_encrypt(key0, message0), rsa_encrypt(key1, message1)\n",
        "\n",
        "    def decrypt_message(enc_massage0, enc_message1, private_key):\n",
        "        try:\n",
        "            message = rsa_decrypt(private_key, enc_massage0)\n",
        "        except:\n",
        "            message = rsa_decrypt(private_key, enc_message1)\n",
        "        return message\n",
        "\n",
        "    # receiver generate keys\n",
        "    pk0, pk1, sk = pk_sampling(chosen_bit)\n",
        "    # sender receive public keys and encrypt both of its messages\n",
        "    enc_msg1, enc_msg2 = encrypt_messages(message0, message1, pk0, pk1)\n",
        "    # receiver receive both messages but only decrypt the one correspond to its chosen bit\n",
        "    chosen_msg = decrypt_message(enc_msg1, enc_msg2, sk)\n",
        "    return chosen_msg\n",
        "\n",
        "\n",
        "\n",
        "sender_message0 = b\"Message 0\"\n",
        "sender_message1 = b\"Message 1\"\n",
        "\n",
        "receiver_chosen_bit = 0\n",
        "receiver_chosen_message = oblivious_transfer(sender_message0, sender_message1, receiver_chosen_bit)\n",
        "print(\"Receiver's choice:\", receiver_chosen_bit)\n",
        "print(\"Decrypted text:\", receiver_chosen_message.decode())\n"
      ]
    }
  ],
  "metadata": {
    "kernelspec": {
      "display_name": "base",
      "language": "python",
      "name": "python3"
    },
    "language_info": {
      "codemirror_mode": {
        "name": "ipython",
        "version": 3
      },
      "file_extension": ".py",
      "mimetype": "text/x-python",
      "name": "python",
      "nbconvert_exporter": "python",
      "pygments_lexer": "ipython3",
      "version": "3.12.2"
    },
    "colab": {
      "provenance": []
    }
  },
  "nbformat": 4,
  "nbformat_minor": 0
}